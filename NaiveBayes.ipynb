{
 "cells": [
  {
   "cell_type": "markdown",
   "metadata": {},
   "source": [
    "# Naive Bayes (the easy way)"
   ]
  },
  {
   "cell_type": "markdown",
   "metadata": {},
   "source": [
    "We'll cheat by using sklearn.naive_bayes to train a spam classifier! Most of the code is just loading our training data into a pandas DataFrame that we can play with:"
   ]
  },
  {
   "cell_type": "code",
   "execution_count": 9,
   "metadata": {},
   "outputs": [
    {
     "name": "stderr",
     "output_type": "stream",
     "text": [
      "/Users/sadhanadesai/anaconda3/lib/python3.7/site-packages/pandas/core/frame.py:6692: FutureWarning: Sorting because non-concatenation axis is not aligned. A future version\n",
      "of pandas will change to not sort by default.\n",
      "\n",
      "To accept the future behavior, pass 'sort=False'.\n",
      "\n",
      "To retain the current behavior and silence the warning, pass 'sort=True'.\n",
      "\n",
      "  sort=sort)\n"
     ]
    }
   ],
   "source": [
    "import os\n",
    "import io\n",
    "import numpy\n",
    "from pandas import DataFrame\n",
    "from sklearn.feature_extraction.text import CountVectorizer\n",
    "from sklearn.naive_bayes import MultinomialNB\n",
    "\n",
    "def readFiles(path):\n",
    "    for root, dirnames, filenames in os.walk(path):\n",
    "        for filename in filenames:\n",
    "            path = os.path.join(root, filename)\n",
    "\n",
    "            inBody = False\n",
    "            lines = []\n",
    "            f = io.open(path, 'r', encoding='latin1')\n",
    "            for line in f:\n",
    "                if inBody:\n",
    "                    lines.append(line)\n",
    "                elif line == '\\n':\n",
    "                    inBody = True\n",
    "            f.close()\n",
    "            message = '\\n'.join(lines)\n",
    "            yield path, message\n",
    "\n",
    "\n",
    "def dataFrameFromDirectory(path, classification):\n",
    "    rows = []\n",
    "    index = []\n",
    "    for filename, message in readFiles(path):\n",
    "        rows.append({'message': message, 'class': classification})\n",
    "        index.append(filename)\n",
    "\n",
    "    return DataFrame(rows, index=index)\n",
    "\n",
    "data = DataFrame({'message': [], 'class': []})\n",
    "\n",
    "data = data.append(dataFrameFromDirectory('/Users/sadhanadesai/Desktop/Udemy-ML,DS,DL/MLCourse/emails/spam', 'spam'))\n",
    "data = data.append(dataFrameFromDirectory('/Users/sadhanadesai/Desktop/Udemy-ML,DS,DL/MLCourse/emails/ham', 'ham'))\n"
   ]
  },
  {
   "cell_type": "markdown",
   "metadata": {},
   "source": [
    "Let's have a look at that DataFrame:"
   ]
  },
  {
   "cell_type": "code",
   "execution_count": 10,
   "metadata": {},
   "outputs": [
    {
     "data": {
      "text/html": [
       "<div>\n",
       "<style scoped>\n",
       "    .dataframe tbody tr th:only-of-type {\n",
       "        vertical-align: middle;\n",
       "    }\n",
       "\n",
       "    .dataframe tbody tr th {\n",
       "        vertical-align: top;\n",
       "    }\n",
       "\n",
       "    .dataframe thead th {\n",
       "        text-align: right;\n",
       "    }\n",
       "</style>\n",
       "<table border=\"1\" class=\"dataframe\">\n",
       "  <thead>\n",
       "    <tr style=\"text-align: right;\">\n",
       "      <th></th>\n",
       "      <th>class</th>\n",
       "      <th>message</th>\n",
       "    </tr>\n",
       "  </thead>\n",
       "  <tbody>\n",
       "    <tr>\n",
       "      <th>/Users/sadhanadesai/Desktop/Udemy-ML,DS,DL/MLCourse/emails/spam/00249.5f45607c1bffe89f60ba1ec9f878039a</th>\n",
       "      <td>spam</td>\n",
       "      <td>Dear Homeowner,\\n\\n \\n\\nInterest Rates are at ...</td>\n",
       "    </tr>\n",
       "    <tr>\n",
       "      <th>/Users/sadhanadesai/Desktop/Udemy-ML,DS,DL/MLCourse/emails/spam/00373.ebe8670ac56b04125c25100a36ab0510</th>\n",
       "      <td>spam</td>\n",
       "      <td>ATTENTION: This is a MUST for ALL Computer Use...</td>\n",
       "    </tr>\n",
       "    <tr>\n",
       "      <th>/Users/sadhanadesai/Desktop/Udemy-ML,DS,DL/MLCourse/emails/spam/00214.1367039e50dc6b7adb0f2aa8aba83216</th>\n",
       "      <td>spam</td>\n",
       "      <td>This is a multi-part message in MIME format.\\n...</td>\n",
       "    </tr>\n",
       "    <tr>\n",
       "      <th>/Users/sadhanadesai/Desktop/Udemy-ML,DS,DL/MLCourse/emails/spam/00210.050ffd105bd4e006771ee63cabc59978</th>\n",
       "      <td>spam</td>\n",
       "      <td>IMPORTANT INFORMATION:\\n\\n\\n\\nThe new domain n...</td>\n",
       "    </tr>\n",
       "    <tr>\n",
       "      <th>/Users/sadhanadesai/Desktop/Udemy-ML,DS,DL/MLCourse/emails/spam/00033.9babb58d9298daa2963d4f514193d7d6</th>\n",
       "      <td>spam</td>\n",
       "      <td>This is the bottom line.  If you can GIVE AWAY...</td>\n",
       "    </tr>\n",
       "  </tbody>\n",
       "</table>\n",
       "</div>"
      ],
      "text/plain": [
       "                                                   class  \\\n",
       "/Users/sadhanadesai/Desktop/Udemy-ML,DS,DL/MLCo...  spam   \n",
       "/Users/sadhanadesai/Desktop/Udemy-ML,DS,DL/MLCo...  spam   \n",
       "/Users/sadhanadesai/Desktop/Udemy-ML,DS,DL/MLCo...  spam   \n",
       "/Users/sadhanadesai/Desktop/Udemy-ML,DS,DL/MLCo...  spam   \n",
       "/Users/sadhanadesai/Desktop/Udemy-ML,DS,DL/MLCo...  spam   \n",
       "\n",
       "                                                                                              message  \n",
       "/Users/sadhanadesai/Desktop/Udemy-ML,DS,DL/MLCo...  Dear Homeowner,\\n\\n \\n\\nInterest Rates are at ...  \n",
       "/Users/sadhanadesai/Desktop/Udemy-ML,DS,DL/MLCo...  ATTENTION: This is a MUST for ALL Computer Use...  \n",
       "/Users/sadhanadesai/Desktop/Udemy-ML,DS,DL/MLCo...  This is a multi-part message in MIME format.\\n...  \n",
       "/Users/sadhanadesai/Desktop/Udemy-ML,DS,DL/MLCo...  IMPORTANT INFORMATION:\\n\\n\\n\\nThe new domain n...  \n",
       "/Users/sadhanadesai/Desktop/Udemy-ML,DS,DL/MLCo...  This is the bottom line.  If you can GIVE AWAY...  "
      ]
     },
     "execution_count": 10,
     "metadata": {},
     "output_type": "execute_result"
    }
   ],
   "source": [
    "data.head()"
   ]
  },
  {
   "cell_type": "markdown",
   "metadata": {},
   "source": [
    "Now we will use a CountVectorizer to split up each message into its list of words, and throw that into a MultinomialNB classifier. Call fit() and we've got a trained spam filter ready to go! It's just that easy."
   ]
  },
  {
   "cell_type": "code",
   "execution_count": 11,
   "metadata": {},
   "outputs": [
    {
     "data": {
      "text/plain": [
       "MultinomialNB(alpha=1.0, class_prior=None, fit_prior=True)"
      ]
     },
     "execution_count": 11,
     "metadata": {},
     "output_type": "execute_result"
    }
   ],
   "source": [
    "vectorizer = CountVectorizer()\n",
    "counts = vectorizer.fit_transform(data['message'].values)\n",
    "\n",
    "classifier = MultinomialNB()\n",
    "targets = data['class'].values\n",
    "classifier.fit(counts, targets)"
   ]
  },
  {
   "cell_type": "markdown",
   "metadata": {},
   "source": [
    "Let's try it out:"
   ]
  },
  {
   "cell_type": "code",
   "execution_count": 27,
   "metadata": {},
   "outputs": [
    {
     "data": {
      "text/plain": [
       "array(['spam', 'ham', 'spam'], dtype='<U4')"
      ]
     },
     "execution_count": 27,
     "metadata": {},
     "output_type": "execute_result"
    }
   ],
   "source": [
    "examples = ['Free Viagra now!!!', 'Hi Bob, how about a game of golf tomorrow?']\n",
    "example_counts = vectorizer.transform(examples)\n",
    "predictions = classifier.predict(example_counts)\n",
    "predictions"
   ]
  },
  {
   "cell_type": "markdown",
   "metadata": {},
   "source": [
    "## Activity"
   ]
  },
  {
   "cell_type": "markdown",
   "metadata": {},
   "source": [
    "Our data set is small, so our spam classifier isn't actually very good. Try running some different test emails through it and see if you get the results you expect.\n",
    "\n",
    "If you really want to challenge yourself, try applying train/test to this spam classifier - see how well it can predict some subset of the ham and spam emails."
   ]
  },
  {
   "cell_type": "code",
   "execution_count": 28,
   "metadata": {},
   "outputs": [
    {
     "name": "stdout",
     "output_type": "stream",
     "text": [
      "Percent correct: 93.83333333333333%\n"
     ]
    }
   ],
   "source": [
    "from sklearn.model_selection import train_test_split\n",
    "\n",
    "trainDf, testDf = train_test_split(data, test_size=0.2)\n",
    "trainVect = CountVectorizer()\n",
    "trainCounts = vectorizer.fit_transform(trainDf['message'].values)\n",
    "trainTargets = trainDf['class'].values\n",
    "classifier.fit(trainCounts, trainTargets)\n",
    "\n",
    "testCounts = vectorizer.transform(testDf['message'])\n",
    "testPredictions = classifier.predict(testCounts)\n",
    "\n",
    "correct = 0\n",
    "total = 0\n",
    "\n",
    "for index, (value1, value2) in enumerate(zip(testPredictions, testDf['class'])):\n",
    "    if value1 == value2:\n",
    "        correct += 1\n",
    "    total += 1\n",
    "\n",
    "percentCorrect = correct/total\n",
    "print(f'Percent correct: {percentCorrect*100}%')"
   ]
  },
  {
   "cell_type": "code",
   "execution_count": null,
   "metadata": {},
   "outputs": [],
   "source": []
  }
 ],
 "metadata": {
  "kernelspec": {
   "display_name": "Python 3",
   "language": "python",
   "name": "python3"
  },
  "language_info": {
   "codemirror_mode": {
    "name": "ipython",
    "version": 3
   },
   "file_extension": ".py",
   "mimetype": "text/x-python",
   "name": "python",
   "nbconvert_exporter": "python",
   "pygments_lexer": "ipython3",
   "version": "3.7.3"
  }
 },
 "nbformat": 4,
 "nbformat_minor": 1
}
