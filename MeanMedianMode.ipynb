{
 "cells": [
  {
   "cell_type": "markdown",
   "metadata": {},
   "source": [
    "# Mean, Median, Mode, and introducing NumPy"
   ]
  },
  {
   "cell_type": "markdown",
   "metadata": {},
   "source": [
    "## Mean vs. Median"
   ]
  },
  {
   "cell_type": "markdown",
   "metadata": {},
   "source": [
    "Let's create some fake income data, centered around 27,000 with a normal distribution and standard deviation of 15,000, with 10,000 data points. (We'll discuss those terms more later, if you're not familiar with them.)\n",
    "\n",
    "Then, compute the mean (average) - it should be close to 27,000:"
   ]
  },
  {
   "cell_type": "code",
   "execution_count": 1,
   "metadata": {},
   "outputs": [
    {
     "data": {
      "text/plain": [
       "27046.37119047724"
      ]
     },
     "execution_count": 1,
     "metadata": {},
     "output_type": "execute_result"
    }
   ],
   "source": [
    "import numpy as np\n",
    "\n",
    "incomes = np.random.normal(27000, 15000, 10000)\n",
    "np.mean(incomes)"
   ]
  },
  {
   "cell_type": "markdown",
   "metadata": {},
   "source": [
    "We can segment the income data into 50 buckets, and plot it as a histogram:"
   ]
  },
  {
   "cell_type": "code",
   "execution_count": 2,
   "metadata": {},
   "outputs": [
    {
     "data": {
      "image/png": "[encoded data removed]",
      "text/plain": [
       "<Figure size 432x288 with 1 Axes>"
      ]
     },
     "metadata": {
      "needs_background": "light"
     },
     "output_type": "display_data"
    }
   ],
   "source": [
    "%matplotlib inline\n",
    "import matplotlib.pyplot as plt\n",
    "plt.hist(incomes, 50)\n",
    "plt.show()"
   ]
  },
  {
   "cell_type": "markdown",
   "metadata": {},
   "source": [
    "Now compute the median - since we have a nice, even distribution it too should be close to 27,000:"
   ]
  },
  {
   "cell_type": "code",
   "execution_count": 3,
   "metadata": {},
   "outputs": [
    {
     "data": {
      "text/plain": [
       "27164.65414581242"
      ]
     },
     "execution_count": 3,
     "metadata": {},
     "output_type": "execute_result"
    }
   ],
   "source": [
    "np.median(incomes)"
   ]
  },
  {
   "cell_type": "markdown",
   "metadata": {},
   "source": [
    "Now we'll add Jeff Bezos into the mix. Darn income inequality!"
   ]
  },
  {
   "cell_type": "code",
   "execution_count": 4,
   "metadata": {},
   "outputs": [],
   "source": [
    "incomes = np.append(incomes, [1000000000])"
   ]
  },
  {
   "cell_type": "markdown",
   "metadata": {},
   "source": [
    "The median won't change much, but the mean does:"
   ]
  },
  {
   "cell_type": "code",
   "execution_count": 5,
   "metadata": {},
   "outputs": [
    {
     "data": {
      "text/plain": [
       "27164.73237891322"
      ]
     },
     "execution_count": 5,
     "metadata": {},
     "output_type": "execute_result"
    }
   ],
   "source": [
    "np.median(incomes)"
   ]
  },
  {
   "cell_type": "code",
   "execution_count": 6,
   "metadata": {},
   "outputs": [
    {
     "data": {
      "text/plain": [
       "127033.66782369486"
      ]
     },
     "execution_count": 6,
     "metadata": {},
     "output_type": "execute_result"
    }
   ],
   "source": [
    "np.mean(incomes)"
   ]
  },
  {
   "cell_type": "markdown",
   "metadata": {},
   "source": [
    "## Mode"
   ]
  },
  {
   "cell_type": "markdown",
   "metadata": {},
   "source": [
    "Next, let's generate some fake age data for 500 people:"
   ]
  },
  {
   "cell_type": "code",
   "execution_count": 7,
   "metadata": {},
   "outputs": [
    {
     "data": {
      "text/plain": [
       "array([88, 26, 86, 75, 45, 35, 53, 19, 89, 59, 31, 68, 87, 59, 30, 51, 76,\n",
       "       31, 63, 75, 51, 85, 80, 86, 23, 55, 58, 65, 65, 51, 76, 81, 42, 20,\n",
       "       74, 40, 78, 69, 89, 35, 50, 55, 82, 35, 86, 47, 81, 20, 54, 51, 84,\n",
       "       83, 38, 82, 39, 61, 58, 24, 87, 31, 32, 56, 73, 37, 31, 49, 54, 53,\n",
       "       34, 18, 74, 38, 65, 41, 18, 34, 33, 44, 26, 51, 41, 38, 88, 77, 31,\n",
       "       19, 50, 29, 87, 63, 44, 48, 76, 69, 73, 72, 26, 58, 67, 53, 54, 88,\n",
       "       20, 25, 51, 43, 85, 55, 80, 36, 83, 27, 70, 22, 18, 78, 54, 82, 28,\n",
       "       59, 61, 59, 75, 33, 75, 88, 24, 73, 52, 84, 76, 71, 64, 88, 77, 72,\n",
       "       79, 63, 79, 57, 85, 72, 84, 60, 61, 44, 37, 77, 82, 64, 57, 30, 69,\n",
       "       24, 41, 71, 74, 33, 45, 65, 21, 87, 59, 81, 37, 75, 56, 47, 35, 53,\n",
       "       47, 73, 48, 72, 48, 40, 39, 75, 83, 58, 39, 33, 73, 72, 66, 78, 83,\n",
       "       42, 87, 65, 45, 45, 84, 63, 58, 43, 26, 85, 27, 33, 64, 81, 57, 52,\n",
       "       79, 83, 39, 21, 27, 29, 82, 63, 84, 76, 85, 36, 81, 86, 20, 21, 26,\n",
       "       30, 42, 18, 82, 50, 27, 53, 71, 82, 59, 44, 54, 36, 35, 85, 49, 89,\n",
       "       57, 81, 22, 47, 28, 79, 62, 18, 43, 40, 22, 65, 38, 60, 83, 44, 25,\n",
       "       86, 87, 46, 75, 89, 33, 83, 26, 46, 67, 71, 28, 34, 84, 72, 71, 55,\n",
       "       88, 28, 76, 75, 48, 40, 42, 53, 27, 23, 77, 70, 71, 33, 70, 52, 30,\n",
       "       25, 26, 28, 26, 86, 21, 71, 87, 33, 87, 55, 30, 52, 25, 26, 23, 76,\n",
       "       64, 40, 79, 33, 52, 32, 59, 51, 42, 52, 72, 67, 31, 73, 22, 28, 71,\n",
       "       53, 49, 55, 68, 34, 67, 67, 18, 85, 62, 82, 77, 61, 50, 20, 52, 84,\n",
       "       43, 27, 75, 43, 48, 49, 27, 49, 67, 54, 54, 87, 43, 45, 84, 69, 81,\n",
       "       25, 47, 45, 84, 71, 28, 59, 82, 28, 54, 50, 88, 65, 72, 64, 34, 27,\n",
       "       55, 47, 83, 64, 78, 20, 65, 65, 81, 54, 20, 46, 69, 22, 62, 19, 84,\n",
       "       82, 73, 22, 56, 64, 58, 23, 76, 36, 27, 81, 84, 54, 63, 36, 76, 51,\n",
       "       83, 81, 52, 74, 83, 20, 49, 85, 73, 67, 53, 80, 56, 39, 29, 46, 51,\n",
       "       27, 75, 51, 23, 23, 78, 83, 64, 48, 64, 33, 27, 25, 70, 22, 22, 58,\n",
       "       24, 81, 84, 47, 26, 46, 49, 81, 66, 34, 18, 87, 65, 75, 48, 50, 28,\n",
       "       34, 46, 57, 71, 19, 74, 72, 65, 35, 36, 41, 80, 82, 88, 36, 56, 84,\n",
       "       65, 45, 19, 61, 70, 50, 31, 28, 43, 18, 37, 61, 58, 31, 75, 50, 20,\n",
       "       87, 36, 70, 30, 88, 44, 55])"
      ]
     },
     "execution_count": 7,
     "metadata": {},
     "output_type": "execute_result"
    }
   ],
   "source": [
    "ages = np.random.randint(18, high=90, size=500)\n",
    "ages"
   ]
  },
  {
   "cell_type": "code",
   "execution_count": 9,
   "metadata": {},
   "outputs": [
    {
     "data": {
      "text/plain": [
       "ModeResult(mode=array([84]), count=array([13]))"
      ]
     },
     "execution_count": 9,
     "metadata": {},
     "output_type": "execute_result"
    }
   ],
   "source": [
    "from scipy import stats\n",
    "stats.mode(ages)"
   ]
  },
  {
   "cell_type": "code",
   "execution_count": null,
   "metadata": {},
   "outputs": [],
   "source": []
  }
 ],
 "metadata": {
  "kernelspec": {
   "display_name": "Python 3",
   "language": "python",
   "name": "python3"
  },
  "language_info": {
   "codemirror_mode": {
    "name": "ipython",
    "version": 3
   },
   "file_extension": ".py",
   "mimetype": "text/x-python",
   "name": "python",
   "nbconvert_exporter": "python",
   "pygments_lexer": "ipython3",
   "version": "3.7.3"
  }
 },
 "nbformat": 4,
 "nbformat_minor": 1
}
